{
 "cells": [
  {
   "cell_type": "code",
   "execution_count": 1,
   "metadata": {
    "collapsed": true
   },
   "outputs": [],
   "source": [
    "import numpy as np\n",
    "\n",
    "a = np.random.randn(5)  # Creates 5 gaussian random numbers stored in array a"
   ]
  },
  {
   "cell_type": "code",
   "execution_count": 2,
   "metadata": {},
   "outputs": [
    {
     "name": "stdout",
     "output_type": "stream",
     "text": [
      "[ 0.92680842 -0.16735138  0.57452296  2.26459105 -1.53208536]\n"
     ]
    }
   ],
   "source": [
    "print(a)"
   ]
  },
  {
   "cell_type": "code",
   "execution_count": 3,
   "metadata": {},
   "outputs": [
    {
     "name": "stdout",
     "output_type": "stream",
     "text": [
      "(5,)\n"
     ]
    }
   ],
   "source": [
    "print(a.shape) # A rank 1 array, neither a row vector nor a column vector"
   ]
  },
  {
   "cell_type": "code",
   "execution_count": 4,
   "metadata": {},
   "outputs": [
    {
     "name": "stdout",
     "output_type": "stream",
     "text": [
      "[ 0.92680842 -0.16735138  0.57452296  2.26459105 -1.53208536]\n"
     ]
    }
   ],
   "source": [
    "print(a.T) # Nothing happens because a is not a vector"
   ]
  },
  {
   "cell_type": "code",
   "execution_count": 5,
   "metadata": {},
   "outputs": [
    {
     "name": "stdout",
     "output_type": "stream",
     "text": [
      "(5,)\n"
     ]
    }
   ],
   "source": [
    "print(a.T.shape)"
   ]
  },
  {
   "cell_type": "code",
   "execution_count": 6,
   "metadata": {},
   "outputs": [
    {
     "name": "stdout",
     "output_type": "stream",
     "text": [
      "8.69271511785\n"
     ]
    }
   ],
   "source": [
    "print(np.dot(a, a.T)) # Same effect"
   ]
  },
  {
   "cell_type": "markdown",
   "metadata": {},
   "source": [
    "GOOD PRACTICE: don't use rank-1 arrays"
   ]
  },
  {
   "cell_type": "code",
   "execution_count": 7,
   "metadata": {},
   "outputs": [
    {
     "name": "stdout",
     "output_type": "stream",
     "text": [
      "[[ 0.7933734 ]\n",
      " [-1.67498197]\n",
      " [ 0.22205426]\n",
      " [ 2.44350705]\n",
      " [ 0.15513084]]\n"
     ]
    }
   ],
   "source": [
    "a = np.random.randn(5, 1) # Creates 5 gaussian random numbers stored in a (5, 1) MATRIX, i.e, a COLUMN VECTOR\n",
    "print(a)"
   ]
  },
  {
   "cell_type": "code",
   "execution_count": 8,
   "metadata": {},
   "outputs": [
    {
     "name": "stdout",
     "output_type": "stream",
     "text": [
      "[[ 0.7933734  -1.67498197  0.22205426  2.44350705  0.15513084]]\n"
     ]
    }
   ],
   "source": [
    "print(a.T)"
   ]
  },
  {
   "cell_type": "code",
   "execution_count": 9,
   "metadata": {},
   "outputs": [
    {
     "name": "stdout",
     "output_type": "stream",
     "text": [
      "[[ 0.62944135 -1.32888614  0.17617195  1.93861349  0.12307668]\n",
      " [-1.32888614  2.80556461 -0.37193689 -4.09283026 -0.25984136]\n",
      " [ 0.17617195 -0.37193689  0.0493081   0.54259116  0.03444746]\n",
      " [ 1.93861349 -4.09283026  0.54259116  5.97072671  0.3790633 ]\n",
      " [ 0.12307668 -0.25984136  0.03444746  0.3790633   0.02406558]]\n"
     ]
    }
   ],
   "source": [
    "print(np.dot(a, a.T)) # Now we get the OUTER PRODUCT of a vector (in this case, equivalent to a matrix multiplication (5x1)(1x5))"
   ]
  },
  {
   "cell_type": "markdown",
   "metadata": {},
   "source": [
    "To check and make sure:"
   ]
  },
  {
   "cell_type": "code",
   "execution_count": 10,
   "metadata": {
    "collapsed": true
   },
   "outputs": [],
   "source": [
    "assert(a.shape == (5,1))"
   ]
  },
  {
   "cell_type": "markdown",
   "metadata": {},
   "source": [
    "Assertions are a systematic way to check that the internal state of a program is as the programmer expected, with the goal of catching bugs. In particular, they're good for catching false assumptions that were made while writing the code, or abuse of an interface by another programmer. In addition, they can act as in-line documentation to some extent, by making the programmer's assumptions obvious. (\"Explicit is better than implicit.\")\n",
    "\n",
    "When your code assumes something and acts upon the assumption, it's recommended to protect this assumption with an assert. This assert failing means your assumption isn't correct, which means your code isn't correct.\n",
    "\n",
    "*assert condition*\n",
    " \n",
    "is equivalent to:\n",
    "\n",
    "*if not condition:\n",
    "    raise AssertionError()*"
   ]
  },
  {
   "cell_type": "markdown",
   "metadata": {},
   "source": [
    "As a \"last call\" resource:"
   ]
  },
  {
   "cell_type": "code",
   "execution_count": null,
   "metadata": {
    "collapsed": true
   },
   "outputs": [],
   "source": [
    "a = np.random.randn(5)  # Creates 5 gaussian random numbers stored in array a\n",
    "a = reshape((5,1))"
   ]
  }
 ],
 "metadata": {
  "kernelspec": {
   "display_name": "Python 3",
   "language": "python",
   "name": "python3"
  },
  "language_info": {
   "codemirror_mode": {
    "name": "ipython",
    "version": 3
   },
   "file_extension": ".py",
   "mimetype": "text/x-python",
   "name": "python",
   "nbconvert_exporter": "python",
   "pygments_lexer": "ipython3",
   "version": "3.6.0"
  }
 },
 "nbformat": 4,
 "nbformat_minor": 2
}
