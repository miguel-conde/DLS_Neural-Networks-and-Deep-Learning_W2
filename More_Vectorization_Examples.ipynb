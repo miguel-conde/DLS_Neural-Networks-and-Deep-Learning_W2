{
 "cells": [
  {
   "cell_type": "markdown",
   "metadata": {},
   "source": [
    "## Exponential operation on every element of a matrix / vector\n",
    "### $u = e^v$"
   ]
  },
  {
   "cell_type": "markdown",
   "metadata": {},
   "source": [
    "#### For loop version"
   ]
  },
  {
   "cell_type": "code",
   "execution_count": 21,
   "metadata": {
    "collapsed": true
   },
   "outputs": [],
   "source": [
    "import numpy as np\n",
    "import math\n",
    "\n",
    "n = 10\n",
    "v = np.random.rand(n,1)\n",
    "u = np.zeros((n,1))\n",
    "# print(u, v)"
   ]
  },
  {
   "cell_type": "code",
   "execution_count": 22,
   "metadata": {
    "collapsed": false
   },
   "outputs": [
    {
     "name": "stdout",
     "output_type": "stream",
     "text": [
      "[[ 1.64936942]\n",
      " [ 2.08133201]\n",
      " [ 2.07167417]\n",
      " [ 1.78633125]\n",
      " [ 1.94468996]\n",
      " [ 1.83717409]\n",
      " [ 2.12708215]\n",
      " [ 1.71978609]\n",
      " [ 1.91717257]\n",
      " [ 2.19629529]]\n"
     ]
    }
   ],
   "source": [
    "for i in range(n):\n",
    "    u[i] = math.exp(v[i])\n",
    "print(u)"
   ]
  },
  {
   "cell_type": "markdown",
   "metadata": {},
   "source": [
    "#### Vectorized version"
   ]
  },
  {
   "cell_type": "code",
   "execution_count": 23,
   "metadata": {
    "collapsed": false
   },
   "outputs": [
    {
     "name": "stdout",
     "output_type": "stream",
     "text": [
      "[[ 1.64936942]\n",
      " [ 2.08133201]\n",
      " [ 2.07167417]\n",
      " [ 1.78633125]\n",
      " [ 1.94468996]\n",
      " [ 1.83717409]\n",
      " [ 2.12708215]\n",
      " [ 1.71978609]\n",
      " [ 1.91717257]\n",
      " [ 2.19629529]]\n"
     ]
    }
   ],
   "source": [
    "u = np.exp(v)\n",
    "print(u)"
   ]
  },
  {
   "cell_type": "markdown",
   "metadata": {},
   "source": [
    "### $u =Av$"
   ]
  },
  {
   "cell_type": "code",
   "execution_count": 24,
   "metadata": {
    "collapsed": false
   },
   "outputs": [
    {
     "name": "stdout",
     "output_type": "stream",
     "text": [
      "[[ 0.51768145  0.16776658  0.07067473  0.94241456  0.79017131]\n",
      " [ 0.86229345  0.13890313  0.24023754  0.76588775  0.29564771]\n",
      " [ 0.57442104  0.07666977  0.83394082  0.49909786  0.46771632]\n",
      " [ 0.55075975  0.74367919  0.0507913   0.58848272  0.28005587]\n",
      " [ 0.729319    0.63533183  0.56664678  0.33766481  0.91408567]\n",
      " [ 0.42325955  0.70270748  0.15471936  0.91691729  0.11372088]\n",
      " [ 0.3824851   0.04276533  0.88800919  0.75316896  0.78575855]\n",
      " [ 0.884563    0.11963336  0.22119189  0.47038946  0.85570651]\n",
      " [ 0.22830616  0.53657979  0.45295098  0.39317996  0.1976483 ]\n",
      " [ 0.43978175  0.00994624  0.22037768  0.88695174  0.3456398 ]]\n",
      "[[ 0.92386946]\n",
      " [ 0.18755447]\n",
      " [ 0.97057993]\n",
      " [ 0.66112871]\n",
      " [ 0.10351985]]\n"
     ]
    }
   ],
   "source": [
    "R = 10\n",
    "C = 5\n",
    "A = np.random.rand(R, C)\n",
    "v = np.random.rand(C,1)\n",
    "u = np.zeros((R,1))\n",
    "\n",
    "print(A)\n",
    "print(v)\n",
    "\n"
   ]
  },
  {
   "cell_type": "code",
   "execution_count": 15,
   "metadata": {
    "collapsed": false
   },
   "outputs": [
    {
     "name": "stdout",
     "output_type": "stream",
     "text": [
      "[[ 1.48079316]\n",
      " [ 1.41534149]\n",
      " [ 1.15312125]\n",
      " [ 1.1013024 ]\n",
      " [ 1.29371416]\n",
      " [ 0.96203597]\n",
      " [ 1.30071894]\n",
      " [ 0.94470187]\n",
      " [ 0.8874274 ]\n",
      " [ 0.89276389]]\n"
     ]
    }
   ],
   "source": [
    "u = np.dot(A, v)\n",
    "\n",
    "print(u)"
   ]
  },
  {
   "cell_type": "code",
   "execution_count": null,
   "metadata": {
    "collapsed": true
   },
   "outputs": [],
   "source": []
  }
 ],
 "metadata": {
  "kernelspec": {
   "display_name": "Python 3",
   "language": "python",
   "name": "python3"
  },
  "language_info": {
   "codemirror_mode": {
    "name": "ipython",
    "version": 3
   },
   "file_extension": ".py",
   "mimetype": "text/x-python",
   "name": "python",
   "nbconvert_exporter": "python",
   "pygments_lexer": "ipython3",
   "version": "3.6.0"
  }
 },
 "nbformat": 4,
 "nbformat_minor": 2
}
